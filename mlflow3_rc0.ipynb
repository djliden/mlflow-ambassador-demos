{
 "cells": [
  {
   "cell_type": "markdown",
   "metadata": {},
   "source": [
    "# MLflow 3 RC0\n",
    "\n",
    "- [Docs](https://mlflow.org/docs/3.0.0rc0/mlflow-3/)"
   ]
  },
  {
   "cell_type": "code",
   "execution_count": 22,
   "metadata": {},
   "outputs": [
    {
     "name": "stdout",
     "output_type": "stream",
     "text": [
      "🏃 View run bemused-squid-440 at: http://localhost:5001/#/experiments/108756872616911814/runs/1c26f8f9f948406fa3d02f06e4f9bd8f\n",
      "🧪 View experiment at: http://localhost:5001/#/experiments/108756872616911814\n"
     ]
    },
    {
     "data": {
      "text/html": [
       "\n",
       "<div>\n",
       "  <style scoped>\n",
       "  button {\n",
       "    border: none;\n",
       "    border-radius: 4px;\n",
       "    background-color: rgb(34, 114, 180);\n",
       "    font-family: -apple-system, \"system-ui\", \"Segoe UI\", Roboto, \"Helvetica Neue\", Arial;\n",
       "    font-size: 13px;\n",
       "    color: white;\n",
       "    margin-top: 8px;\n",
       "    margin-bottom: 8px;\n",
       "    padding: 8px 16px;\n",
       "    cursor: pointer;\n",
       "  }\n",
       "  button:hover {\n",
       "    background-color: rgb(66, 153, 224);\n",
       "  }\n",
       "  </style>\n",
       "  <button\n",
       "    onclick=\"\n",
       "        const display = this.nextElementSibling.style.display;\n",
       "        const isCollapsed = display === 'none';\n",
       "        this.nextElementSibling.style.display = isCollapsed ? null : 'none';\n",
       "\n",
       "        const verb = isCollapsed ? 'Collapse' : 'Expand';\n",
       "        this.innerText = `${verb} MLflow Trace`;\n",
       "    \"\n",
       "  >Collapse MLflow Trace</button>\n",
       "  <iframe\n",
       "    id=\"trace-renderer\"\n",
       "    style=\"width: 100%; height: 500px; border: none; resize: vertical;\"\n",
       "    src=\"http://localhost:5001/static-files/lib/notebook-trace-renderer/index.html?trace_id=f20db72cc32e4ac8ac4d750554818a46&amp;experiment_id=108756872616911814&amp;version=3.0.0rc0\"\n",
       "  />\n",
       "</div>\n"
      ],
      "text/plain": [
       "Trace(request_id=f20db72cc32e4ac8ac4d750554818a46)"
      ]
     },
     "metadata": {},
     "output_type": "display_data"
    }
   ],
   "source": [
    "import mlflow\n",
    "import openai\n",
    "\n",
    "mlflow.openai.autolog()\n",
    "\n",
    "client = openai.OpenAI()\n",
    "\n",
    "mlflow.set_tracking_uri(\"http://localhost:5001\")\n",
    "mlflow.set_experiment(\"mlflow3-rc0\")\n",
    "\n",
    "with mlflow.start_run():\n",
    "    response = client.chat.completions.create(\n",
    "        model=\"gpt-4o-mini\",\n",
    "        messages=[{\"role\": \"user\", \"content\": \"Hello, world!\"}],\n",
    "    )"
   ]
  },
  {
   "cell_type": "markdown",
   "metadata": {},
   "source": [
    "## Register a Prompt\n"
   ]
  },
  {
   "cell_type": "code",
   "execution_count": 23,
   "metadata": {},
   "outputs": [
    {
     "name": "stderr",
     "output_type": "stream",
     "text": [
      "2025/04/21 11:27:18 INFO mlflow.store.model_registry.abstract_store: Waiting up to 300 seconds for prompt version to finish creation. Prompt name: summarization-prompt, version 4\n"
     ]
    }
   ],
   "source": [
    "prompt = mlflow.register_prompt(\n",
    "    name=\"summarization-prompt\",\n",
    "    template=\"\"\"Summarize the following text at the provided level of complexity, where 1 represents a non-technical summary \n",
    "for novices and 5 represents a technical summary for experts.\\n\\nLevel: {{level}}\\n\\nText: {{text}}\"\"\",\n",
    "    # Optional: Provide a commit message to describe the changes\n",
    "    commit_message=\"Initial commit\",\n",
    "    # Optional: Specify any additional metadata about the prompt version\n",
    "    version_metadata={\n",
    "        \"author\": \"Daniel Liden\",\n",
    "    },\n",
    "    # Optional: Set tags applies to the prompt (across versions)\n",
    "    tags={\n",
    "        \"task\": \"summarization\",\n",
    "        \"language\": \"en\",\n",
    "    },\n",
    ")"
   ]
  },
  {
   "cell_type": "markdown",
   "metadata": {},
   "source": [
    "## Invoke the Model with the Registered Prompt"
   ]
  },
  {
   "cell_type": "code",
   "execution_count": 24,
   "metadata": {},
   "outputs": [
    {
     "data": {
      "text/html": [
       "\n",
       "<div>\n",
       "  <style scoped>\n",
       "  button {\n",
       "    border: none;\n",
       "    border-radius: 4px;\n",
       "    background-color: rgb(34, 114, 180);\n",
       "    font-family: -apple-system, \"system-ui\", \"Segoe UI\", Roboto, \"Helvetica Neue\", Arial;\n",
       "    font-size: 13px;\n",
       "    color: white;\n",
       "    margin-top: 8px;\n",
       "    margin-bottom: 8px;\n",
       "    padding: 8px 16px;\n",
       "    cursor: pointer;\n",
       "  }\n",
       "  button:hover {\n",
       "    background-color: rgb(66, 153, 224);\n",
       "  }\n",
       "  </style>\n",
       "  <button\n",
       "    onclick=\"\n",
       "        const display = this.nextElementSibling.style.display;\n",
       "        const isCollapsed = display === 'none';\n",
       "        this.nextElementSibling.style.display = isCollapsed ? null : 'none';\n",
       "\n",
       "        const verb = isCollapsed ? 'Collapse' : 'Expand';\n",
       "        this.innerText = `${verb} MLflow Trace`;\n",
       "    \"\n",
       "  >Collapse MLflow Trace</button>\n",
       "  <iframe\n",
       "    id=\"trace-renderer\"\n",
       "    style=\"width: 100%; height: 500px; border: none; resize: vertical;\"\n",
       "    src=\"http://localhost:5001/static-files/lib/notebook-trace-renderer/index.html?trace_id=a0f04cdc82694283a0e91d732e40ef21&amp;experiment_id=108756872616911814&amp;version=3.0.0rc0\"\n",
       "  />\n",
       "</div>\n"
      ],
      "text/plain": [
       "Trace(request_id=a0f04cdc82694283a0e91d732e40ef21)"
      ]
     },
     "metadata": {},
     "output_type": "display_data"
    }
   ],
   "source": [
    "import requests\n",
    "from markdownify import markdownify\n",
    "# helper function to get text from a webpage\n",
    "\n",
    "def webpage_to_markdown(url):\n",
    "    # Get webpage content\n",
    "    response = requests.get(url)\n",
    "    html_content = response.text\n",
    "    \n",
    "    # Convert to markdown\n",
    "    markdown_content = markdownify(html_content)\n",
    "\n",
    "    return markdown_content\n",
    "\n",
    "url = \"https://mlflow.org/docs/3.0.0rc0/tracing/tracing-schema\"\n",
    "markdown_content = webpage_to_markdown(url)\n",
    "\n",
    "# Invoke the model with the registered prompt\n",
    "response = client.chat.completions.create(\n",
    "    model=\"gpt-4o-mini\",\n",
    "    messages=[{\"role\": \"user\", \"content\": prompt.format(level=1, text=markdown_content)}],\n",
    ")"
   ]
  },
  {
   "cell_type": "code",
   "execution_count": 25,
   "metadata": {},
   "outputs": [
    {
     "data": {
      "text/html": [
       "\n",
       "<div>\n",
       "  <style scoped>\n",
       "  button {\n",
       "    border: none;\n",
       "    border-radius: 4px;\n",
       "    background-color: rgb(34, 114, 180);\n",
       "    font-family: -apple-system, \"system-ui\", \"Segoe UI\", Roboto, \"Helvetica Neue\", Arial;\n",
       "    font-size: 13px;\n",
       "    color: white;\n",
       "    margin-top: 8px;\n",
       "    margin-bottom: 8px;\n",
       "    padding: 8px 16px;\n",
       "    cursor: pointer;\n",
       "  }\n",
       "  button:hover {\n",
       "    background-color: rgb(66, 153, 224);\n",
       "  }\n",
       "  </style>\n",
       "  <button\n",
       "    onclick=\"\n",
       "        const display = this.nextElementSibling.style.display;\n",
       "        const isCollapsed = display === 'none';\n",
       "        this.nextElementSibling.style.display = isCollapsed ? null : 'none';\n",
       "\n",
       "        const verb = isCollapsed ? 'Collapse' : 'Expand';\n",
       "        this.innerText = `${verb} MLflow Trace`;\n",
       "    \"\n",
       "  >Collapse MLflow Trace</button>\n",
       "  <iframe\n",
       "    id=\"trace-renderer\"\n",
       "    style=\"width: 100%; height: 500px; border: none; resize: vertical;\"\n",
       "    src=\"http://localhost:5001/static-files/lib/notebook-trace-renderer/index.html?trace_id=4a6783c318b747808d6cdeacdb94be7d&amp;experiment_id=108756872616911814&amp;version=3.0.0rc0\"\n",
       "  />\n",
       "</div>\n"
      ],
      "text/plain": [
       "Trace(request_id=4a6783c318b747808d6cdeacdb94be7d)"
      ]
     },
     "metadata": {},
     "output_type": "display_data"
    }
   ],
   "source": [
    "response = client.chat.completions.create(\n",
    "    model=\"gpt-4o-mini\",\n",
    "    messages=[{\"role\": \"user\", \"content\": prompt.format(level=5, text=markdown_content)}],\n",
    ")"
   ]
  },
  {
   "cell_type": "markdown",
   "metadata": {},
   "source": [
    "## Evaluate the Model"
   ]
  },
  {
   "cell_type": "code",
   "execution_count": 26,
   "metadata": {},
   "outputs": [
    {
     "name": "stderr",
     "output_type": "stream",
     "text": [
      "100%|██████████| 1/1 [00:02<00:00,  2.13s/it]\n",
      "100%|██████████| 1/1 [00:02<00:00,  2.83s/it]\n",
      "100%|██████████| 1/1 [00:02<00:00,  2.01s/it]\n",
      "100%|██████████| 1/1 [00:02<00:00,  2.33s/it]\n",
      "100%|██████████| 1/1 [00:02<00:00,  2.03s/it]"
     ]
    },
    {
     "name": "stdout",
     "output_type": "stream",
     "text": [
      "🏃 View run learned-whale-641 at: http://localhost:5001/#/experiments/108756872616911814/runs/6ed1f65db40b490cb66ad329b47e6dd0\n",
      "🧪 View experiment at: http://localhost:5001/#/experiments/108756872616911814\n"
     ]
    },
    {
     "name": "stderr",
     "output_type": "stream",
     "text": [
      "\n"
     ]
    },
    {
     "data": {
      "text/html": [
       "\n",
       "<div>\n",
       "  <style scoped>\n",
       "  button {\n",
       "    border: none;\n",
       "    border-radius: 4px;\n",
       "    background-color: rgb(34, 114, 180);\n",
       "    font-family: -apple-system, \"system-ui\", \"Segoe UI\", Roboto, \"Helvetica Neue\", Arial;\n",
       "    font-size: 13px;\n",
       "    color: white;\n",
       "    margin-top: 8px;\n",
       "    margin-bottom: 8px;\n",
       "    padding: 8px 16px;\n",
       "    cursor: pointer;\n",
       "  }\n",
       "  button:hover {\n",
       "    background-color: rgb(66, 153, 224);\n",
       "  }\n",
       "  </style>\n",
       "  <button\n",
       "    onclick=\"\n",
       "        const display = this.nextElementSibling.style.display;\n",
       "        const isCollapsed = display === 'none';\n",
       "        this.nextElementSibling.style.display = isCollapsed ? null : 'none';\n",
       "\n",
       "        const verb = isCollapsed ? 'Collapse' : 'Expand';\n",
       "        this.innerText = `${verb} MLflow Trace`;\n",
       "    \"\n",
       "  >Collapse MLflow Trace</button>\n",
       "  <iframe\n",
       "    id=\"trace-renderer\"\n",
       "    style=\"width: 100%; height: 500px; border: none; resize: vertical;\"\n",
       "    src=\"http://localhost:5001/static-files/lib/notebook-trace-renderer/index.html?trace_id=0a24be43341044f38eafcf89c727cad3&amp;experiment_id=108756872616911814&amp;trace_id=d1f4703d327543b3b1c84d6c8a4f84d0&amp;experiment_id=108756872616911814&amp;trace_id=70601957c79249708b017140661d8740&amp;experiment_id=108756872616911814&amp;trace_id=fd18fdda8e8f4476b4cdc1b1e68543f8&amp;experiment_id=108756872616911814&amp;trace_id=64e9d582d6e9462e9652ab24bbdc0470&amp;experiment_id=108756872616911814&amp;version=3.0.0rc0\"\n",
       "  />\n",
       "</div>\n"
      ],
      "text/plain": [
       "[Trace(request_id=0a24be43341044f38eafcf89c727cad3), Trace(request_id=d1f4703d327543b3b1c84d6c8a4f84d0), Trace(request_id=70601957c79249708b017140661d8740), Trace(request_id=fd18fdda8e8f4476b4cdc1b1e68543f8), Trace(request_id=64e9d582d6e9462e9652ab24bbdc0470)]"
      ]
     },
     "metadata": {},
     "output_type": "display_data"
    }
   ],
   "source": [
    "from mlflow.metrics.genai import faithfulness\n",
    "\n",
    "faithfulness_metric = faithfulness(model=\"openai:/gpt-4o\")\n",
    "\n",
    "# Fetch the LoggedModel that's automatically created during autologging\n",
    "logged_model = mlflow.last_logged_model()\n",
    "\n",
    "with mlflow.start_run():\n",
    "    for level in range(1, 6):   \n",
    "        response = (\n",
    "            client.chat.completions.create(\n",
    "                messages=[\n",
    "                {\"role\": \"user\", \"content\": prompt.format(level=level, text=markdown_content)}\n",
    "            ],\n",
    "            model=\"gpt-4o-mini\",\n",
    "            temperature=0.1,\n",
    "            max_tokens=2000,\n",
    "        )\n",
    "        .choices[0]\n",
    "        .message.content\n",
    "    )\n",
    "\n",
    "        faithfulness_score = faithfulness_metric(\n",
    "            predictions=response, inputs = \" \", context = markdown_content\n",
    "        ).scores[0]\n",
    "\n",
    "        # Log metrics and pass model_id to link the metrics\n",
    "        mlflow.log_metrics(\n",
    "            {\n",
    "                \"faithfulness\": faithfulness_score,\n",
    "            },\n",
    "            model_id=logged_model.model_id,\n",
    "        )"
   ]
  },
  {
   "cell_type": "code",
   "execution_count": null,
   "metadata": {},
   "outputs": [],
   "source": []
  }
 ],
 "metadata": {
  "kernelspec": {
   "display_name": ".venv",
   "language": "python",
   "name": "python3"
  },
  "language_info": {
   "codemirror_mode": {
    "name": "ipython",
    "version": 3
   },
   "file_extension": ".py",
   "mimetype": "text/x-python",
   "name": "python",
   "nbconvert_exporter": "python",
   "pygments_lexer": "ipython3",
   "version": "3.12.8"
  }
 },
 "nbformat": 4,
 "nbformat_minor": 2
}
